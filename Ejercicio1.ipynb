{
 "cells": [
  {
   "cell_type": "code",
   "execution_count": 1,
   "id": "c314dd31",
   "metadata": {},
   "outputs": [
    {
     "name": "stdout",
     "output_type": "stream",
     "text": [
      "Raíz en [0, 1]: 0.58203125\n",
      "Raíz en [1, 3.2]: 2.9980468750000004\n",
      "Raíz en [3.2, 4]: 3.4156250000000004\n"
     ]
    }
   ],
   "source": [
    "def biseccion(f, a, b, tol=1e-2):\n",
    "    while abs(b - a) > tol:\n",
    "        c = (a + b) / 2\n",
    "        if f(a) * f(c) < 0:\n",
    "            b = c\n",
    "        else:\n",
    "            a = c\n",
    "    return (a + b) / 2\n",
    "\n",
    "f1 = lambda x: x**3 - 7*x**2 + 14*x - 6\n",
    "\n",
    "print(\"Raíz en [0, 1]:\", biseccion(f1, 0, 1))\n",
    "print(\"Raíz en [1, 3.2]:\", biseccion(f1, 1, 3.2))\n",
    "print(\"Raíz en [3.2, 4]:\", biseccion(f1, 3.2, 4))"
   ]
  }
 ],
 "metadata": {
  "kernelspec": {
   "display_name": "Python 3",
   "language": "python",
   "name": "python3"
  },
  "language_info": {
   "codemirror_mode": {
    "name": "ipython",
    "version": 3
   },
   "file_extension": ".py",
   "mimetype": "text/x-python",
   "name": "python",
   "nbconvert_exporter": "python",
   "pygments_lexer": "ipython3",
   "version": "3.13.3"
  }
 },
 "nbformat": 4,
 "nbformat_minor": 5
}
