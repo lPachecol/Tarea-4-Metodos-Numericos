{
 "cells": [
  {
   "cell_type": "code",
   "execution_count": 1,
   "id": "41931da2",
   "metadata": {},
   "outputs": [
    {
     "name": "stdout",
     "output_type": "stream",
     "text": [
      "Raíz de x = 2sin(x): 1.8954963684082031\n"
     ]
    }
   ],
   "source": [
    "import numpy as np\n",
    "\n",
    "def f2(x):\n",
    "    return x - 2 * np.sin(x)\n",
    "\n",
    "def biseccion(f, a, b, tol=1e-5):\n",
    "    while abs(b - a) > tol:\n",
    "        c = (a + b) / 2\n",
    "        if f(a) * f(c) < 0:\n",
    "            b = c\n",
    "        else:\n",
    "            a = c\n",
    "    return (a + b) / 2\n",
    "\n",
    "print(\"Raíz de x = 2sin(x):\", biseccion(f2, 0, 2))\n"
   ]
  }
 ],
 "metadata": {
  "kernelspec": {
   "display_name": "Python 3",
   "language": "python",
   "name": "python3"
  },
  "language_info": {
   "codemirror_mode": {
    "name": "ipython",
    "version": 3
   },
   "file_extension": ".py",
   "mimetype": "text/x-python",
   "name": "python",
   "nbconvert_exporter": "python",
   "pygments_lexer": "ipython3",
   "version": "3.13.3"
  }
 },
 "nbformat": 4,
 "nbformat_minor": 5
}
