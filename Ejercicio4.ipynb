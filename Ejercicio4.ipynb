{
 "cells": [
  {
   "cell_type": "code",
   "execution_count": 2,
   "id": "09c0b766",
   "metadata": {},
   "outputs": [
    {
     "name": "stdout",
     "output_type": "stream",
     "text": [
      "Raíz de x^2 - 1 = e^(1 - x^2) en [-2, 0]: -1.25146484375\n"
     ]
    }
   ],
   "source": [
    "import numpy as np\n",
    "\n",
    "def f4(x):\n",
    "    return x**2 - 1 - np.exp(1 - x**2)\n",
    "\n",
    "def biseccion(f, a, b, tol=1e-3):\n",
    "    while abs(b - a) > tol:\n",
    "        c = (a + b) / 2\n",
    "        if f(a) * f(c) < 0:\n",
    "            b = c\n",
    "        else:\n",
    "            a = c\n",
    "    return (a + b) / 2\n",
    "\n",
    "print(\"Raíz de x^2 - 1 = e^(1 - x^2) en [-2, 0]:\", biseccion(f4, -2, 0))\n"
   ]
  }
 ],
 "metadata": {
  "kernelspec": {
   "display_name": "Python 3",
   "language": "python",
   "name": "python3"
  },
  "language_info": {
   "codemirror_mode": {
    "name": "ipython",
    "version": 3
   },
   "file_extension": ".py",
   "mimetype": "text/x-python",
   "name": "python",
   "nbconvert_exporter": "python",
   "pygments_lexer": "ipython3",
   "version": "3.13.3"
  }
 },
 "nbformat": 4,
 "nbformat_minor": 5
}
