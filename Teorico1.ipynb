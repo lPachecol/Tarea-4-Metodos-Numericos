{
 "cells": [
  {
   "cell_type": "code",
   "execution_count": 1,
   "id": "2ba5e14e",
   "metadata": {},
   "outputs": [
    {
     "name": "stdout",
     "output_type": "stream",
     "text": [
      "Cota mínima de iteraciones: 14\n",
      "Aproximación de la raíz: 1.324738\n"
     ]
    }
   ],
   "source": [
    "import math\n",
    "\n",
    "def iteraciones_necesarias(a, b, tol):\n",
    "    n = math.ceil((math.log10(b - a) - math.log10(tol)) / math.log10(2))\n",
    "    return n\n",
    "\n",
    "def f(x):\n",
    "    return x**3 - x - 1\n",
    "\n",
    "def biseccion(f, a, b, tol=1e-4):\n",
    "    while abs(b - a) > tol:\n",
    "        c = (a + b) / 2\n",
    "        if f(a) * f(c) < 0:\n",
    "            b = c\n",
    "        else:\n",
    "            a = c\n",
    "    return (a + b) / 2\n",
    "\n",
    "a, b = 1, 2\n",
    "tolerancia = 1e-4\n",
    "\n",
    "n_iters = iteraciones_necesarias(a, b, tolerancia)\n",
    "raiz = biseccion(f, a, b, tolerancia)\n",
    "\n",
    "print(\"Cota mínima de iteraciones:\", n_iters)\n",
    "print(\"Aproximación de la raíz:\", round(raiz, 6))\n"
   ]
  }
 ],
 "metadata": {
  "kernelspec": {
   "display_name": "Python 3",
   "language": "python",
   "name": "python3"
  },
  "language_info": {
   "codemirror_mode": {
    "name": "ipython",
    "version": 3
   },
   "file_extension": ".py",
   "mimetype": "text/x-python",
   "name": "python",
   "nbconvert_exporter": "python",
   "pygments_lexer": "ipython3",
   "version": "3.13.3"
  }
 },
 "nbformat": 4,
 "nbformat_minor": 5
}
