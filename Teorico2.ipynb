{
 "cells": [
  {
   "cell_type": "code",
   "execution_count": 1,
   "id": "2f01d00a",
   "metadata": {},
   "outputs": [
    {
     "name": "stdout",
     "output_type": "stream",
     "text": [
      "Intervalo [-0.9, 2.9] → Raíz aproximada: -2.6226043702632697e-07\n",
      "Intervalo [-0.5, 2.8] → Raíz aproximada: 2.0000003695487973\n",
      "Intervalo [-0.9, 1.5] → Raíz aproximada: 2.861022948941194e-07\n"
     ]
    }
   ],
   "source": [
    "import numpy as np\n",
    "\n",
    "def f(x):\n",
    "    return np.sin(np.pi * x)\n",
    "\n",
    "def biseccion(f, a, b, tol=1e-6):\n",
    "    while abs(b - a) > tol:\n",
    "        c = (a + b) / 2\n",
    "        if f(a) * f(c) < 0:\n",
    "            b = c\n",
    "        else:\n",
    "            a = c\n",
    "    return (a + b) / 2\n",
    "\n",
    "# Pruebas con diferentes combinaciones de a y b\n",
    "pares = [\n",
    "    (-0.9, 2.9),  # a + b ≈ 2 → converge a x = 1\n",
    "    (-0.5, 2.8),  # a + b > 2 → converge a x = 2\n",
    "    (-0.9, 1.5),  # a + b < 2 → converge a x = 0\n",
    "]\n",
    "\n",
    "for a, b in pares:\n",
    "    raiz = biseccion(f, a, b)\n",
    "    print(f\"Intervalo [{a}, {b}] → Raíz aproximada: {raiz}\")\n"
   ]
  }
 ],
 "metadata": {
  "kernelspec": {
   "display_name": "Python 3",
   "language": "python",
   "name": "python3"
  },
  "language_info": {
   "codemirror_mode": {
    "name": "ipython",
    "version": 3
   },
   "file_extension": ".py",
   "mimetype": "text/x-python",
   "name": "python",
   "nbconvert_exporter": "python",
   "pygments_lexer": "ipython3",
   "version": "3.13.3"
  }
 },
 "nbformat": 4,
 "nbformat_minor": 5
}
