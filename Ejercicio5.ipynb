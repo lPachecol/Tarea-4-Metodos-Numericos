{
 "cells": [
  {
   "cell_type": "code",
   "execution_count": 1,
   "id": "6db03985",
   "metadata": {},
   "outputs": [
    {
     "name": "stdout",
     "output_type": "stream",
     "text": [
      "Raíz en [-1.5, 2.5]: 1.4999961853027344\n",
      "Raíz en [-0.5, 2.4]: 9.536743162531158e-08\n",
      "Raíz en [-0.5, 3]: 2.9999966621398926\n",
      "Raíz en [-3, -0.5]: -0.9999971389770508\n"
     ]
    }
   ],
   "source": [
    "def f5(x):\n",
    "    return (x + 3)*(x + 1)*x*(x - 1)*(x - 3)\n",
    "\n",
    "intervalos = [(-1.5, 2.5), (-0.5, 2.4), (-0.5, 3), (-3, -0.5)]\n",
    "\n",
    "def biseccion(f, a, b, tol=1e-5):\n",
    "    while abs(b - a) > tol:\n",
    "        c = (a + b) / 2\n",
    "        if f(a) * f(c) < 0:\n",
    "            b = c\n",
    "        else:\n",
    "            a = c\n",
    "    return (a + b) / 2\n",
    "\n",
    "for a, b in intervalos:\n",
    "    raiz = biseccion(f5, a, b)\n",
    "    print(f\"Raíz en [{a}, {b}]: {raiz}\")\n"
   ]
  }
 ],
 "metadata": {
  "kernelspec": {
   "display_name": "Python 3",
   "language": "python",
   "name": "python3"
  },
  "language_info": {
   "codemirror_mode": {
    "name": "ipython",
    "version": 3
   },
   "file_extension": ".py",
   "mimetype": "text/x-python",
   "name": "python",
   "nbconvert_exporter": "python",
   "pygments_lexer": "ipython3",
   "version": "3.13.3"
  }
 },
 "nbformat": 4,
 "nbformat_minor": 5
}
