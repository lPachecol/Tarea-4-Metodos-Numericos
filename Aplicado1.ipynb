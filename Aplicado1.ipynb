{
 "cells": [
  {
   "cell_type": "code",
   "execution_count": 1,
   "id": "33f32a77",
   "metadata": {},
   "outputs": [
    {
     "name": "stdout",
     "output_type": "stream",
     "text": [
      "Profundidad aproximada del agua (cm): 0.1684\n"
     ]
    }
   ],
   "source": [
    "import numpy as np\n",
    "\n",
    "L = 10  # cm\n",
    "r = 1   # cm\n",
    "V_deseado = 12.4  # cm³\n",
    "\n",
    "def volumen(h):\n",
    "    if h <= 0 or h >= r:\n",
    "        return -1e10  # fuera de dominio\n",
    "    area = 0.5 * np.pi * r**2 - r**2 * np.arcsin(h/r) - h * np.sqrt(r**2 - h**2)\n",
    "    return L * area\n",
    "\n",
    "def f(h):\n",
    "    return volumen(h) - V_deseado\n",
    "\n",
    "def biseccion(f, a, b, tol=0.01):\n",
    "    while abs(b - a) > tol:\n",
    "        c = (a + b) / 2\n",
    "        if f(a) * f(c) < 0:\n",
    "            b = c\n",
    "        else:\n",
    "            a = c\n",
    "    return (a + b) / 2\n",
    "\n",
    "h_aprox = biseccion(f, 0.01, r - 0.001)\n",
    "print(\"Profundidad aproximada del agua (cm):\", round(h_aprox, 4))\n"
   ]
  }
 ],
 "metadata": {
  "kernelspec": {
   "display_name": "Python 3",
   "language": "python",
   "name": "python3"
  },
  "language_info": {
   "codemirror_mode": {
    "name": "ipython",
    "version": 3
   },
   "file_extension": ".py",
   "mimetype": "text/x-python",
   "name": "python",
   "nbconvert_exporter": "python",
   "pygments_lexer": "ipython3",
   "version": "3.13.3"
  }
 },
 "nbformat": 4,
 "nbformat_minor": 5
}
