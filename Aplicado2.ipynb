{
 "cells": [
  {
   "cell_type": "code",
   "execution_count": 1,
   "id": "2af37ea3",
   "metadata": {},
   "outputs": [
    {
     "name": "stdout",
     "output_type": "stream",
     "text": [
      "Tiempo hasta tocar el suelo (s): 14.7247\n"
     ]
    }
   ],
   "source": [
    "import numpy as np\n",
    "\n",
    "m = 0.25  # kg\n",
    "g = 9.81  # m/s²\n",
    "k = 0.1   # Ns/m\n",
    "s0 = 300  # m\n",
    "\n",
    "def s(t):\n",
    "    term1 = s0 - (m * g / k) * t\n",
    "    term2 = (m**2 * g / k**2) * (1 - np.exp(-k * t / m))\n",
    "    return term1 + term2\n",
    "\n",
    "def f(t):\n",
    "    return s(t)  # buscamos cuando s(t) ≈ 0\n",
    "\n",
    "def biseccion(f, a, b, tol=0.01):\n",
    "    while abs(b - a) > tol:\n",
    "        c = (a + b) / 2\n",
    "        if f(a) * f(c) < 0:\n",
    "            b = c\n",
    "        else:\n",
    "            a = c\n",
    "    return (a + b) / 2\n",
    "\n",
    "tiempo = biseccion(f, 1, 30)\n",
    "print(\"Tiempo hasta tocar el suelo (s):\", round(tiempo, 4))\n"
   ]
  }
 ],
 "metadata": {
  "kernelspec": {
   "display_name": "Python 3",
   "language": "python",
   "name": "python3"
  },
  "language_info": {
   "codemirror_mode": {
    "name": "ipython",
    "version": 3
   },
   "file_extension": ".py",
   "mimetype": "text/x-python",
   "name": "python",
   "nbconvert_exporter": "python",
   "pygments_lexer": "ipython3",
   "version": "3.13.3"
  }
 },
 "nbformat": 4,
 "nbformat_minor": 5
}
